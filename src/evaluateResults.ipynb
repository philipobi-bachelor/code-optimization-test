{
 "cells": [
  {
   "cell_type": "code",
   "execution_count": null,
   "id": "3bb027de",
   "metadata": {},
   "outputs": [],
   "source": [
    "from evaluateResults import makeTestResultTable\n",
    "from pathlib import PosixPath as Path\n",
    "import pandas as pd\n",
    "import numpy as np\n",
    "\n",
    "root = Path(\"..\")"
   ]
  },
  {
   "cell_type": "code",
   "execution_count": null,
   "id": "1c26a815",
   "metadata": {},
   "outputs": [],
   "source": [
    "\n",
    "tableDir = root / \"evaluation\" / \"tables\"\n",
    "\n",
    "for optimized in (True, False):\n",
    "    optStr = \"optimized\" if optimized else \"unoptimized\"\n",
    "    for testNum in (1, 2):\n",
    "        fileName = f\"{optStr}-test{testNum}\"\n",
    "        table, df = makeTestResultTable(testNum=testNum, optimized=optimized, root=root)\n",
    "        with Path.open(tableDir / \"tex\" / f\"{fileName}.tex\", \"w\") as f:\n",
    "            f.write(table.render())\n",
    "        df.to_csv(tableDir / \"csv\" / f\"{fileName}.csv\")"
   ]
  },
  {
   "cell_type": "code",
   "execution_count": null,
   "id": "d2034e03",
   "metadata": {},
   "outputs": [],
   "source": [
    "models = (\n",
    "    \"claude-sonnet-4\",\n",
    "    \"gemini-2.5-pro\",\n",
    "    \"gpt-4o\",\n",
    "    \"o4-mini\",\n",
    ")\n",
    "\n",
    "_, df1 = makeTestResultTable(testNum=1, optimized=True, root=root)\n",
    "_, df2 = makeTestResultTable(testNum=2, optimized=True, root=root)\n",
    "\n",
    "test1ImprovedCols = [f\"test1.{model}.improved\" for model in models]\n",
    "test2ImprovedCols = [f\"test2.{model}.improved\" for model in models]\n",
    "\n",
    "test1ImprovedData = (df1[test1ImprovedCols] == \"y\").sum()[test1ImprovedCols].values\n",
    "test2ImprovedData = (df2[test2ImprovedCols] == \"y\").sum()[test2ImprovedCols].values\n",
    "improvedSum = test1ImprovedData + test2ImprovedData"
   ]
  },
  {
   "cell_type": "code",
   "execution_count": null,
   "id": "dce00318",
   "metadata": {},
   "outputs": [],
   "source": [
    "improvementTable = pd.DataFrame(\n",
    "    data=np.vstack(\n",
    "        (\n",
    "            test1ImprovedData,\n",
    "            test2ImprovedData,\n",
    "            improvedSum,\n",
    "        )\n",
    "    ),\n",
    "    columns=models,\n",
    ")\n",
    "improvementTable"
   ]
  },
  {
   "cell_type": "code",
   "execution_count": null,
   "id": "a8cdee12",
   "metadata": {},
   "outputs": [],
   "source": [
    "improvementTable.to_latex(\n",
    "    root / \"evaluation\" / \"tables\" / \"tex\" / \"summary.tex\",\n",
    "    header=True,\n",
    "    index=False,\n",
    ")"
   ]
  }
 ],
 "metadata": {
  "language_info": {
   "name": "python"
  }
 },
 "nbformat": 4,
 "nbformat_minor": 5
}
