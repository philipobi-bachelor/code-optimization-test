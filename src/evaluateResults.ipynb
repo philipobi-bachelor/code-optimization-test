{
 "cells": [
  {
   "cell_type": "code",
   "execution_count": null,
   "id": "3bb027de",
   "metadata": {},
   "outputs": [],
   "source": [
    "from evaluateResults import makeTestResultTable\n",
    "from pathlib import PosixPath as Path\n",
    "\n",
    "root = Path(\"..\")\n",
    "\n",
    "table, df = makeTestResultTable(testNum=1, root=root)"
   ]
  },
  {
   "cell_type": "code",
   "execution_count": null,
   "id": "2ac7193c",
   "metadata": {},
   "outputs": [],
   "source": [
    "print(table.render())"
   ]
  },
  {
   "cell_type": "code",
   "execution_count": null,
   "id": "e8ef97f2",
   "metadata": {},
   "outputs": [],
   "source": [
    "from evaluateResults import hexToRgb"
   ]
  },
  {
   "cell_type": "code",
   "execution_count": null,
   "id": "b0de5142",
   "metadata": {},
   "outputs": [],
   "source": [
    "hexToRgb(\"#FCBABA\")"
   ]
  },
  {
   "cell_type": "code",
   "execution_count": null,
   "id": "86f6af45",
   "metadata": {},
   "outputs": [],
   "source": [
    "\"%(foo)s\" % dict(bar=\"1\", foo=\"2\")"
   ]
  },
  {
   "cell_type": "code",
   "execution_count": null,
   "id": "0a635e6a",
   "metadata": {},
   "outputs": [],
   "source": [
    "list(map(str, range(1,10)))"
   ]
  },
  {
   "cell_type": "code",
   "execution_count": null,
   "id": "86c8ff21",
   "metadata": {},
   "outputs": [],
   "source": [
    "(1,2,3) + (i for i in range(3))"
   ]
  },
  {
   "cell_type": "code",
   "execution_count": null,
   "id": "338b8e1e",
   "metadata": {},
   "outputs": [],
   "source": [
    "def func(*args):\n",
    "    print(type(args))\n",
    "\n",
    "func()"
   ]
  },
  {
   "cell_type": "code",
   "execution_count": null,
   "id": "691ee1ae",
   "metadata": {},
   "outputs": [],
   "source": [
    "list(dict(a=1, b=2) | dict(a=3))"
   ]
  },
  {
   "cell_type": "code",
   "execution_count": null,
   "id": "a473c5f8",
   "metadata": {},
   "outputs": [],
   "source": [
    "\"%s %s\" % (\"a\", \"b\")"
   ]
  },
  {
   "cell_type": "code",
   "execution_count": null,
   "id": "aa3dd7dc",
   "metadata": {},
   "outputs": [],
   "source": [
    "circles = r\"\"\"\n",
    "\\providecommand*\\ec[1][1ex]{}\n",
    "\\providecommand*\\hc[1][1ex]{}\n",
    "\\providecommand*\\fc[1][1ex]{}\n",
    "\n",
    "\\renewcommand*\\ec[1][1ex]{\\tikz\\draw (0,0) circle (#1);} \n",
    "\\renewcommand*\\hc[1][1ex]{%\n",
    "  \\begin{tikzpicture}\n",
    "  \\draw[fill] (0,0)-- (90:#1) arc (90:270:#1) -- cycle ;\n",
    "  \\draw (0,0) circle (#1);\n",
    "  \\end{tikzpicture}}\n",
    "\\renewcommand*\\fc[1][1ex]{\\tikz\\fill (0,0) circle (#1);}\n",
    "\"\"\".strip()\n",
    "\n",
    "print(circles)"
   ]
  },
  {
   "cell_type": "code",
   "execution_count": null,
   "id": "2617f3f2",
   "metadata": {},
   "outputs": [],
   "source": [
    "(\n",
    "    1,2,3,foo:=4,\n",
    ")"
   ]
  },
  {
   "cell_type": "code",
   "execution_count": null,
   "id": "ec450380",
   "metadata": {},
   "outputs": [],
   "source": [
    "foo"
   ]
  },
  {
   "cell_type": "code",
   "execution_count": null,
   "id": "103cd156",
   "metadata": {},
   "outputs": [],
   "source": []
  }
 ],
 "metadata": {
  "language_info": {
   "name": "python"
  }
 },
 "nbformat": 4,
 "nbformat_minor": 5
}
