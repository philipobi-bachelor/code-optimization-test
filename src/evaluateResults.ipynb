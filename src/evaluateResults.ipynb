{
 "cells": [
  {
   "cell_type": "code",
   "execution_count": 1,
   "id": "0f2ca7c0",
   "metadata": {},
   "outputs": [],
   "source": [
    "import json\n",
    "import re\n",
    "from typing import Iterator\n",
    "from IPython.display import display, Markdown, clear_output\n",
    "from utils import getExamplesSorted, Example\n",
    "from processResults import fullDiffRegex\n",
    "from pathlib import PosixPath as Path\n",
    "\n",
    "namespaceRegex = re.compile(\n",
    "    r\"namespace task(?P<taskNum>\\d+) {.*? \\/\\/ namespace task\\d+\\s*\",\n",
    "    flags=re.DOTALL,\n",
    ")\n",
    "\n",
    "taskRegex = re.compile(\n",
    "    r\"\\/\\/ Task (?P<taskNum>\\d+).*?(?=\\s*\\/\\/ Task \\d+|$)\",\n",
    "    flags=re.DOTALL,\n",
    ")\n",
    "\n",
    "reviewTemplate = \"\"\"\\\n",
    "\n",
    "#### {title}\n",
    "{description}\n",
    "\n",
    "<table>\n",
    "<tr>\n",
    "<td>\n",
    "\n",
    "`slow`:\n",
    "\n",
    "```cpp\n",
    "{codeSlow}\n",
    "```\n",
    "\n",
    "</td>\n",
    "<td>\n",
    "\n",
    "`agent ({version})`:\n",
    "\n",
    "```diff\n",
    "{agentDiff}\n",
    "```\n",
    "\n",
    "</td>\n",
    "<td>\n",
    "\n",
    "`fast`:\n",
    "\n",
    "```cpp\n",
    "{codeFast}\n",
    "```\n",
    "\n",
    "</td>\n",
    "</tr>\n",
    "</table>\n",
    "\"\"\"\n",
    "\n",
    "def prompt(msg: str, valid: tuple[str, ...]):\n",
    "    while (resp:=input(msg)) not in valid: pass\n",
    "    return resp\n",
    "\n",
    "def evaluateResult(testNum: int, model: str, output: dict) -> Iterator[None]:\n",
    "    with open(f\"../info{testNum}.json\", \"r\") as f: info = json.load(f)\n",
    "    \n",
    "    chatLogs = Path(\"../chat-logs\")\n",
    "    test = f\"test{testNum}\"\n",
    "\n",
    "    with Path.open(chatLogs / test / f\"{model}.md\", \"r\") as f: [match] = re.finditer(fullDiffRegex, f.read())\n",
    "    fullDiff = match.group(\"fullDiff\")\n",
    "    \n",
    "    namespaces = dict()\n",
    "    taskBlocks = dict()\n",
    "    for match in re.finditer(namespaceRegex, fullDiff):\n",
    "        taskNum = int(match.group(\"taskNum\"))\n",
    "        namespaces[taskNum] = match.group(0)\n",
    "    for match in re.finditer(taskRegex, fullDiff):\n",
    "        taskNum = int(match.group(\"taskNum\"))\n",
    "        taskBlocks[taskNum] = match.group(0)\n",
    "\n",
    "    tasks = output[\"tasks\"] = []\n",
    "    def zipper() -> Iterator[tuple[int, Example, int]]:\n",
    "        yield from zip(range(1, 51), getExamplesSorted(), info[\"choices\"], strict=True)\n",
    "\n",
    "    for taskNum, example, taskVersion in zipper():\n",
    "        assert taskNum == int(example._key)\n",
    "\n",
    "        md = reviewTemplate.format(\n",
    "            title=example.title,\n",
    "            description=example.description,\n",
    "            codeSlow=example.codeSlow,\n",
    "            codeFast=example.codeFast,\n",
    "            agentDiff=f\"{namespaces.get(taskNum, \"\")}\\n\\n{taskBlocks[taskNum]}\",\n",
    "            version = \"SLOW\" if taskVersion == 0 else \"FAST\"\n",
    "        )\n",
    "        display(Markdown(md))\n",
    "        yield\n",
    "        modified = prompt(\"Modified?\", (\"y\", \"n\"))\n",
    "        if \"y\" in modified:\n",
    "            if taskVersion == 1: improved = \"~\" # -> agent made changes to efficient version\n",
    "            else: improved = prompt(\"Improved?\", (\"y\", \"n\"))\n",
    "        else:\n",
    "            improved = \"n\"\n",
    "        tasks.append(dict(taskNum=taskNum, modified=modified, improved=improved))\n",
    "        yield\n",
    "        clear_output()"
   ]
  },
  {
   "cell_type": "code",
   "execution_count": 623,
   "id": "c9abbf50",
   "metadata": {},
   "outputs": [],
   "source": [
    "# modified: y / n\n",
    "# improved: y / n\n",
    "\n",
    "output = {}\n",
    "it = evaluateResult(testNum=2, model=\"o4-mini\", output=output)"
   ]
  },
  {
   "cell_type": "code",
   "execution_count": 724,
   "id": "42c71840",
   "metadata": {},
   "outputs": [
    {
     "ename": "StopIteration",
     "evalue": "",
     "output_type": "error",
     "traceback": [
      "\u001b[31m---------------------------------------------------------------------------\u001b[39m",
      "\u001b[31mStopIteration\u001b[39m                             Traceback (most recent call last)",
      "\u001b[36mCell\u001b[39m\u001b[36m \u001b[39m\u001b[32mIn[724]\u001b[39m\u001b[32m, line 1\u001b[39m\n\u001b[32m----> \u001b[39m\u001b[32m1\u001b[39m \u001b[38;5;28;43mnext\u001b[39;49m\u001b[43m(\u001b[49m\u001b[43mit\u001b[49m\u001b[43m)\u001b[49m\n",
      "\u001b[31mStopIteration\u001b[39m: "
     ]
    }
   ],
   "source": [
    "next(it)"
   ]
  },
  {
   "cell_type": "code",
   "execution_count": 723,
   "id": "5bf36d0a",
   "metadata": {},
   "outputs": [],
   "source": [
    "next(it)"
   ]
  },
  {
   "cell_type": "code",
   "execution_count": null,
   "id": "cd9ad344",
   "metadata": {},
   "outputs": [],
   "source": []
  },
  {
   "cell_type": "code",
   "execution_count": null,
   "id": "f0079e63",
   "metadata": {},
   "outputs": [],
   "source": []
  },
  {
   "cell_type": "code",
   "execution_count": 50,
   "id": "3c4430bd",
   "metadata": {},
   "outputs": [
    {
     "data": {
      "text/plain": [
       "{'taskNum': 23, 'modified': 'y', 'improved': '~'}"
      ]
     },
     "execution_count": 50,
     "metadata": {},
     "output_type": "execute_result"
    }
   ],
   "source": [
    "output[\"tasks\"][-1]"
   ]
  },
  {
   "cell_type": "code",
   "execution_count": 725,
   "id": "363c6d0c",
   "metadata": {},
   "outputs": [],
   "source": [
    "with open(\"../evaluation/test2/o4-mini.json\", \"x\") as f: json.dump(output, f)"
   ]
  },
  {
   "cell_type": "code",
   "execution_count": 7,
   "id": "cf9aa6dc",
   "metadata": {},
   "outputs": [
    {
     "data": {
      "text/plain": [
       "{'tasks': [{'taskNum': 1, 'modified': 'y', 'improved': '~'},\n",
       "  {'taskNum': 2, 'modified': 'n', 'improved': 'n'}]}"
      ]
     },
     "execution_count": 7,
     "metadata": {},
     "output_type": "execute_result"
    }
   ],
   "source": [
    "output"
   ]
  },
  {
   "cell_type": "code",
   "execution_count": null,
   "id": "f5f0ac25",
   "metadata": {},
   "outputs": [],
   "source": []
  }
 ],
 "metadata": {
  "kernelspec": {
   "display_name": ".venv",
   "language": "python",
   "name": "python3"
  },
  "language_info": {
   "codemirror_mode": {
    "name": "ipython",
    "version": 3
   },
   "file_extension": ".py",
   "mimetype": "text/x-python",
   "name": "python",
   "nbconvert_exporter": "python",
   "pygments_lexer": "ipython3",
   "version": "3.12.7"
  }
 },
 "nbformat": 4,
 "nbformat_minor": 5
}
