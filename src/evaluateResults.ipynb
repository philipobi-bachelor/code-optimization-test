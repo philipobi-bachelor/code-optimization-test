{
 "cells": [
  {
   "cell_type": "code",
   "execution_count": null,
   "id": "3bb027de",
   "metadata": {},
   "outputs": [],
   "source": [
    "from evaluateResults import makeTestResultTable\n",
    "from pathlib import PosixPath as Path\n",
    "\n",
    "root = Path(\"..\")\n",
    "\n",
    "tableDir = root / \"evaluation\" / \"tables\"\n",
    "\n",
    "for optimized in (True, False):\n",
    "    optStr = \"optimized\" if optimized else \"unoptimized\"\n",
    "    for testNum in (1, 2):\n",
    "        fileName = f\"{optStr}-test{testNum}\"\n",
    "        table, df = makeTestResultTable(testNum=testNum, optimized=optimized, root=root)\n",
    "        with Path.open(tableDir / \"tex\" / f\"{fileName}.tex\", \"w\") as f:\n",
    "            f.write(table.render())\n",
    "        df.to_csv(tableDir / \"csv\" / f\"{fileName}.csv\")"
   ]
  },
  {
   "cell_type": "code",
   "execution_count": null,
   "id": "d2034e03",
   "metadata": {},
   "outputs": [],
   "source": []
  }
 ],
 "metadata": {
  "language_info": {
   "name": "python"
  }
 },
 "nbformat": 4,
 "nbformat_minor": 5
}
