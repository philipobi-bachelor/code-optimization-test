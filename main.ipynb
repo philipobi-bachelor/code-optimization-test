{
 "cells": [
  {
   "cell_type": "code",
   "execution_count": null,
   "id": "95d36c05",
   "metadata": {},
   "outputs": [],
   "source": []
  },
  {
   "cell_type": "code",
   "execution_count": null,
   "id": "6a7ac590",
   "metadata": {},
   "outputs": [
    {
     "name": "stdout",
     "output_type": "stream",
     "text": [
      "\u0001\u0000\u0000\u0000\u0000\u0000\u0002{\n",
      "    \"benchmarks\": [\n",
      "        {\n",
      "            \"runs\": [\n",
      "                {\n",
      "                    \"values\": [\n",
      "                        0.00274842,\n",
      "                        0.002104871,\n",
      "                        0.002041735,\n",
      "                        0.002033847,\n",
      "                        0.002040551,\n",
      "                        0.002023144,\n",
      "                        0.002012453,\n",
      "                        0.002031788,\n",
      "                        0.002043128,\n",
      "                        0.002022587,\n",
      "                        0.002038246\n",
      "                    ]\n",
      "                }\n",
      "            ]\n",
      "        }\n",
      "    ],\n",
      "    \"metadata\": {\n",
      "        \"loops\": 11,\n",
      "        \"inner_loops\": 1,\n",
      "        \"name\": \"benchmark\",\n",
      "        \"unit\": \"second\"\n",
      "    },\n",
      "    \"version\": \"1.0\"\n",
      "}"
     ]
    }
   ],
   "source": [
    "import docker\n",
    "client = docker.from_env()\n",
    "import socket\n",
    "code = \"\"\"\\\n",
    "#include \"nanobench.h\"\n",
    "#include <iostream>\n",
    "#include <fstream>\n",
    "\n",
    "struct Point { int x, y; };\n",
    "\n",
    "void func() {\n",
    "    const int N = 1000;\n",
    "    std::vector<std::vector<int>> matrix(N, std::vector<int>(N, 1));\n",
    "    long long sum = 0;\n",
    "    // Column-major traversal\n",
    "    for (int j = 0; j < N; ++j) {\n",
    "        for (int i = 0; i < N; ++i) {\n",
    "            sum += matrix[i][j];\n",
    "        }\n",
    "    }\n",
    "    std::cout << sum << std::endl;\n",
    "}\n",
    "\n",
    "int main() {\n",
    "    std::ofstream nullStream(\"/dev/null\");\n",
    "    auto* oldBuf = std::cout.rdbuf(nullStream.rdbuf());\n",
    "    ankerl::nanobench::Bench benchmark;\n",
    "    benchmark.output(nullptr);\n",
    "    benchmark.run(\"test\", []() {func();});\n",
    "    std::cout.rdbuf(oldBuf);\n",
    "    benchmark.render(ankerl::nanobench::templates::pyperf(), std::cout);\n",
    "}\n",
    "\"\"\"\n",
    "\n",
    "compileCommand = (\n",
    "    \"g++ \"\n",
    "    \"-O3 --std=c++20 \"\n",
    "    \"nanobench.o \"\n",
    "    \"-x c++ - \"\n",
    "    \"-o a.out\"\n",
    ")\n",
    "\n",
    "shellCommand = (\n",
    "    \"sh -c \\\"\"\n",
    "    f\"{compileCommand}; \"\n",
    "    \"exitCode=$?; \"\n",
    "    \"if [ $exitCode -eq 0 ]; then ./a.out; \"\n",
    "    \"else echo Compilation failed; fi\"\n",
    "    \"\\\"\"\n",
    ")\n",
    "\n",
    "container = client.containers.run(\n",
    "    \"localhost/benchmark-examples\", \n",
    "    shellCommand,\n",
    "    working_dir=\"/usr/src\",\n",
    "    remove=True, detach=True, stdin_open=True,\n",
    ")\n",
    "socketIO = container.attach_socket(params=dict(stdin=1, stdout=1, stderr=1, stream=1))\n",
    "sock = socketIO._sock\n",
    "sock.sendall(code.encode())\n",
    "sock.shutdown(socket.SHUT_WR)\n",
    "while chunk:=sock.recv(1024):\n",
    "    print(chunk.decode(errors=\"ignore\"), end=\"\")"
   ]
  },
  {
   "cell_type": "code",
   "execution_count": null,
   "id": "cf00e6d0",
   "metadata": {},
   "outputs": [],
   "source": [
    "res = container.exec_run(\n",
    "    f\"sh -c \\\"{compileCommand} && ./a.out\\\"\",\n",
    "    workdir=\"/usr/src\",\n",
    "    stdin=True, stdout=True, stderr=True, socket=True\n",
    ")"
   ]
  },
  {
   "cell_type": "code",
   "execution_count": 4,
   "id": "e836fea0",
   "metadata": {},
   "outputs": [
    {
     "data": {
      "text/plain": [
       "<socket.SocketIO at 0x151b4b8643d0>"
      ]
     },
     "execution_count": 4,
     "metadata": {},
     "output_type": "execute_result"
    }
   ],
   "source": [
    "res.output"
   ]
  },
  {
   "cell_type": "code",
   "execution_count": 5,
   "id": "343d86c5",
   "metadata": {},
   "outputs": [
    {
     "name": "stdout",
     "output_type": "stream",
     "text": [
      "\u0002\u0000\u0000\u0000\u0000\u0000\u0000Warning, results might be unstable:\n",
      "* CPU frequency scaling enabled: CPU 0 between 1,000.0 and 3,900.0 MHz\n",
      "* Turbo is enabled, CPU frequency will fluctuate\n",
      "\n",
      "Recommendations\n",
      "* Use 'pyperf system tune' before benchmarking. See https://github.com/psf/pyperf\n",
      "\u0002\u0000\u0000\u0000\u0000\u0000\u0000\n",
      "|               ns/op |                op/s |    err% |     total | benchmark\n",
      "|--------------------:|--------------------:|--------:|----------:|:----------\n",
      "|        2,081,826.00 |              480.35 |    0.3% |      0.02 | `test`\n"
     ]
    }
   ],
   "source": [
    "sock = res.output._sock\n",
    "sock.sendall(code.encode())\n",
    "sock.shutdown(socket.SHUT_WR)\n",
    "while chunk:=sock.recv(1024):\n",
    "    print(chunk.decode(errors=\"ignore\"), end=\"\")"
   ]
  },
  {
   "cell_type": "code",
   "execution_count": 19,
   "id": "2fc07738",
   "metadata": {},
   "outputs": [
    {
     "data": {
      "text/plain": [
       "'{foo}'"
      ]
     },
     "execution_count": 19,
     "metadata": {},
     "output_type": "execute_result"
    }
   ],
   "source": [
    "\"{{{txt}}}\".format(txt=\"foo\")"
   ]
  },
  {
   "cell_type": "code",
   "execution_count": null,
   "id": "843fed1d",
   "metadata": {},
   "outputs": [
    {
     "ename": "ValueError",
     "evalue": "unsupported format character '{' (0x7b) at index 24",
     "output_type": "error",
     "traceback": [
      "\u001b[31m---------------------------------------------------------------------------\u001b[39m",
      "\u001b[31mValueError\u001b[39m                                Traceback (most recent call last)",
      "\u001b[36mCell\u001b[39m\u001b[36m \u001b[39m\u001b[32mIn[20]\u001b[39m\u001b[32m, line 1\u001b[39m\n\u001b[32m----> \u001b[39m\u001b[32m1\u001b[39m \u001b[33;43;03m\"\"\"\\\u001b[39;49;00m\n\u001b[32m      2\u001b[39m \u001b[33;43;03m#include \"nanobench.h\"\u001b[39;49;00m\n\u001b[32m      3\u001b[39m \u001b[33;43;03m%{includes}s\u001b[39;49;00m\n\u001b[32m      4\u001b[39m \n\u001b[32m      5\u001b[39m \u001b[33;43;03mstruct Point { int x, y; };\u001b[39;49;00m\n\u001b[32m      6\u001b[39m \n\u001b[32m      7\u001b[39m \u001b[33;43;03mvoid func() {\u001b[39;49;00m\n\u001b[32m      8\u001b[39m \u001b[33;43;03m    %{body}s\u001b[39;49;00m\n\u001b[32m      9\u001b[39m \u001b[33;43;03m}\u001b[39;49;00m\n\u001b[32m     10\u001b[39m \n\u001b[32m     11\u001b[39m \u001b[33;43;03mint main() {\u001b[39;49;00m\n\u001b[32m     12\u001b[39m \u001b[33;43;03m    std::ofstream nullStream(\"/dev/null\");\u001b[39;49;00m\n\u001b[32m     13\u001b[39m \u001b[33;43;03m    auto* oldBuf = std::cout.rdbuf(nullStream.rdbuf());\u001b[39;49;00m\n\u001b[32m     14\u001b[39m \u001b[33;43;03m    ankerl::nanobench::Bench benchmark;\u001b[39;49;00m\n\u001b[32m     15\u001b[39m \u001b[33;43;03m    benchmark.output(nullptr);\u001b[39;49;00m\n\u001b[32m     16\u001b[39m \u001b[33;43;03m    benchmark.run(\"test\", []() {func();});\u001b[39;49;00m\n\u001b[32m     17\u001b[39m \u001b[33;43;03m    std::cout.rdbuf(oldBuf);\u001b[39;49;00m\n\u001b[32m     18\u001b[39m \u001b[33;43;03m    benchmark.render(ankerl::nanobench::templates::pyperf(), std::cout);\u001b[39;49;00m\n\u001b[32m     19\u001b[39m \u001b[33;43;03m}\u001b[39;49;00m\n\u001b[32m     20\u001b[39m \u001b[33;43;03m\"\"\"\u001b[39;49;00m\u001b[43m \u001b[49m\u001b[43m%\u001b[49m\u001b[43m \u001b[49m\u001b[43m{\u001b[49m\u001b[33;43m\"\u001b[39;49m\u001b[33;43mincludes\u001b[39;49m\u001b[33;43m\"\u001b[39;49m\u001b[43m \u001b[49m\u001b[43m:\u001b[49m\u001b[43m \u001b[49m\u001b[33;43m\"\u001b[39;49m\u001b[33;43m#include <iostream>\u001b[39;49m\u001b[33;43m\"\u001b[39;49m\u001b[43m,\u001b[49m\u001b[43m \u001b[49m\u001b[33;43m\"\u001b[39;49m\u001b[33;43mbody\u001b[39;49m\u001b[33;43m\"\u001b[39;49m\u001b[43m:\u001b[49m\u001b[43m \u001b[49m\u001b[33;43m\"\u001b[39;49m\u001b[33;43mint i;\u001b[39;49m\u001b[33;43m\"\u001b[39;49m\u001b[43m}\u001b[49m\n",
      "\u001b[31mValueError\u001b[39m: unsupported format character '{' (0x7b) at index 24"
     ]
    }
   ],
   "source": [
    "\"\"\"\\\n",
    "#include \"nanobench.h\"\n",
    "{includes}\n",
    "\n",
    "struct Point { int x, y; };\n",
    "\n",
    "void func() {{\n",
    "    {body}\n",
    "}}\n",
    "\n",
    "int main() {\n",
    "    std::ofstream nullStream(\"/dev/null\");\n",
    "    auto* oldBuf = std::cout.rdbuf(nullStream.rdbuf());\n",
    "    ankerl::nanobench::Bench benchmark;\n",
    "    benchmark.output(nullptr);\n",
    "    benchmark.run(\"test\", []() {func();});\n",
    "    std::cout.rdbuf(oldBuf);\n",
    "    benchmark.render(ankerl::nanobench::templates::pyperf(), std::cout);\n",
    "}\n",
    "\"\"\" % {\"includes\" : \"#include <iostream>\", \"body\": \"int i;\"}"
   ]
  },
  {
   "cell_type": "code",
   "execution_count": null,
   "id": "941761bc",
   "metadata": {},
   "outputs": [],
   "source": []
  }
 ],
 "metadata": {
  "kernelspec": {
   "display_name": ".venv",
   "language": "python",
   "name": "python3"
  },
  "language_info": {
   "codemirror_mode": {
    "name": "ipython",
    "version": 3
   },
   "file_extension": ".py",
   "mimetype": "text/x-python",
   "name": "python",
   "nbconvert_exporter": "python",
   "pygments_lexer": "ipython3",
   "version": "3.12.7"
  }
 },
 "nbformat": 4,
 "nbformat_minor": 5
}
