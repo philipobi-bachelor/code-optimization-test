{
 "cells": [
  {
   "cell_type": "code",
   "execution_count": 2,
   "id": "95d36c05",
   "metadata": {},
   "outputs": [],
   "source": [
    "import docker\n",
    "client = docker.from_env()"
   ]
  },
  {
   "cell_type": "code",
   "execution_count": null,
   "id": "9a0cc9cd",
   "metadata": {},
   "outputs": [],
   "source": [
    "container = client.containers.run(\"alpine\", \"sleep 100\", remove=True, detach=True)\n",
    "result = container.exec_run(\"cat\", stdin=True, socket=True)\n",
    "socket = result.output"
   ]
  },
  {
   "cell_type": "code",
   "execution_count": 23,
   "id": "8aa6854c",
   "metadata": {},
   "outputs": [],
   "source": [
    "socket._sock.sendall(b\"Hello World\\n\")"
   ]
  },
  {
   "cell_type": "code",
   "execution_count": 25,
   "id": "537480e0",
   "metadata": {},
   "outputs": [
    {
     "data": {
      "text/plain": [
       "b''"
      ]
     },
     "execution_count": 25,
     "metadata": {},
     "output_type": "execute_result"
    }
   ],
   "source": [
    "socket._sock.recv(1024)"
   ]
  },
  {
   "cell_type": "code",
   "execution_count": 29,
   "id": "67a405cb",
   "metadata": {},
   "outputs": [],
   "source": [
    "socket.close()"
   ]
  },
  {
   "cell_type": "code",
   "execution_count": 33,
   "id": "e480986f",
   "metadata": {},
   "outputs": [
    {
     "data": {
      "text/plain": [
       "'47e6d89bd0ddfcbaa524bbd83142cc2a19e99af871e91f97eeddbfd211c0f41f'"
      ]
     },
     "execution_count": 33,
     "metadata": {},
     "output_type": "execute_result"
    }
   ],
   "source": [
    "container.id"
   ]
  },
  {
   "cell_type": "code",
   "execution_count": null,
   "id": "6a7ac590",
   "metadata": {},
   "outputs": [
    {
     "name": "stdout",
     "output_type": "stream",
     "text": [
      "\u0002\u0000\u0000\u0000\u0000\u0000\u0000�Warning, results might be unstable:\n",
      "* CPU frequency scaling enabled: CPU 0 between 1,000.0 and 3,900.0 MHz\n",
      "* Turbo is enabled, CPU frequency will fluctuate\n",
      "\n",
      "Recommendations\n",
      "* Use 'pyperf system tune' before benchmarking. See https://github.com/psf/pyperf\n",
      "\u0002\u0000\u0000\u0000\u0000\u0000\u0000�\n",
      "|               ns/op |                op/s |    err% |     total | benchmark\n",
      "|--------------------:|--------------------:|--------:|----------:|:----------\n",
      "|              504.22 |        1,983,269.92 |    0.1% |      0.01 | `test`\n"
     ]
    }
   ],
   "source": [
    "import socket\n",
    "code = \"\"\"\\\n",
    "#include \"nanobench.h\"\n",
    "#include <iostream>\n",
    "#include <fstream>\n",
    "\n",
    "struct Point { int x, y; };\n",
    "\n",
    "void func() {\n",
    "    const int N = 1000;\n",
    "    std::vector<std::vector<int>> matrix(N, std::vector<int>(N, 1));\n",
    "    long long sum = 0;\n",
    "    // Column-major traversal\n",
    "    for (int j = 0; j < N; ++j) {\n",
    "        for (int i = 0; i < N; ++i) {\n",
    "            sum += matrix[i][j];\n",
    "        }\n",
    "    }\n",
    "    std::cout << sum << std::endl;\n",
    "}\n",
    "\n",
    "int main() {\n",
    "    std::ofstream nullStream(\"/dev/null\");\n",
    "    auto* oldBuf = std::cout.rdbuf(nullStream.rdbuf());\n",
    "    \n",
    "    ankerl::nanobench::Bench()\n",
    "    .output(&std::cerr)\n",
    "    .run(\"test\", []() {\n",
    "        func();\n",
    "    });\n",
    "\n",
    "    std::cout.rdbuf(oldBuf);\n",
    "}\n",
    "\"\"\"\n",
    "\n",
    "compileCommand = (\n",
    "    \"g++ \"\n",
    "    \"-O3 --std=c++20 \"\n",
    "    \"nanobench.o \"\n",
    "    \"-x c++ - \"\n",
    "    \"-o a.out\"\n",
    ")\n",
    "\n",
    "container = client.containers.run(\"localhost/benchmark-examples\", \"sleep 100\", remove=True, detach=True)\n",
    "res = container.exec_run(\n",
    "    f\"sh -c \\\"{compileCommand} && ./a.out\\\"\",\n",
    "    workdir=\"/usr/src\",\n",
    "    stdin=True, stdout=True, stderr=True, socket=True\n",
    ")\n",
    "\n",
    "sock = res.output._sock\n",
    "sock.sendall(code.encode())\n",
    "sock.shutdown(socket.SHUT_WR)\n",
    "while chunk:=sock.recv(1024):\n",
    "    print(chunk.decode(errors=\"replace\"), end=\"\")"
   ]
  },
  {
   "cell_type": "code",
   "execution_count": null,
   "id": "d7d6976f",
   "metadata": {},
   "outputs": [],
   "source": [
    "\"\"\"\n",
    "\u0002\u0000\u0000\u0000\u0000\u0000\u0000�Warning, results might be unstable:\n",
    "* CPU frequency scaling enabled: CPU 0 between 1,000.0 and 3,900.0 MHz\n",
    "* Turbo is enabled, CPU frequency will fluctuate\n",
    "\n",
    "Recommendations\n",
    "* Use 'pyperf system tune' before benchmarking. See https://github.com/psf/pyperf\n",
    "�\n",
    "|               ns/op |                op/s |    err% |     total | benchmark\n",
    "|--------------------:|--------------------:|--------:|----------:|:----------\n",
    "|              506.90 |        1,972,793.71 |    0.4% |      0.01 | `test`\n",
    "\"\"\"\n"
   ]
  },
  {
   "cell_type": "code",
   "execution_count": null,
   "id": "07eef9f1",
   "metadata": {},
   "outputs": [
    {
     "ename": "ValueError",
     "evalue": "I/O operation on closed file.",
     "output_type": "error",
     "traceback": [
      "\u001b[31m---------------------------------------------------------------------------\u001b[39m",
      "\u001b[31mValueError\u001b[39m                                Traceback (most recent call last)",
      "\u001b[36mCell\u001b[39m\u001b[36m \u001b[39m\u001b[32mIn[47]\u001b[39m\u001b[32m, line 1\u001b[39m\n\u001b[32m----> \u001b[39m\u001b[32m1\u001b[39m \u001b[43msock\u001b[49m\u001b[43m.\u001b[49m\u001b[43mreadlines\u001b[49m\u001b[43m(\u001b[49m\u001b[43m)\u001b[49m\n",
      "\u001b[31mValueError\u001b[39m: I/O operation on closed file."
     ]
    }
   ],
   "source": [
    "sock.write()"
   ]
  },
  {
   "cell_type": "code",
   "execution_count": null,
   "id": "bd44e75e",
   "metadata": {},
   "outputs": [],
   "source": []
  }
 ],
 "metadata": {
  "kernelspec": {
   "display_name": ".venv",
   "language": "python",
   "name": "python3"
  },
  "language_info": {
   "codemirror_mode": {
    "name": "ipython",
    "version": 3
   },
   "file_extension": ".py",
   "mimetype": "text/x-python",
   "name": "python",
   "nbconvert_exporter": "python",
   "pygments_lexer": "ipython3",
   "version": "3.12.7"
  }
 },
 "nbformat": 4,
 "nbformat_minor": 5
}
